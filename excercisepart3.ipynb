{
 "cells": [
  {
   "cell_type": "code",
   "execution_count": 6,
   "metadata": {},
   "outputs": [],
   "source": [
    "from datetime import date  \n",
    "def date_diff():\n",
    "    firstdate =date(2014,7,10)\n",
    "    lastdate =date(2014,7,20)\n",
    "    print(\"the ddate difference is \"+ str(lastdate-firstdate))"
   ]
  },
  {
   "cell_type": "code",
   "execution_count": 7,
   "metadata": {},
   "outputs": [
    {
     "name": "stdout",
     "output_type": "stream",
     "text": [
      "the ddate difference is 10 days, 0:00:00\n"
     ]
    }
   ],
   "source": [
    "date_diff()"
   ]
  },
  {
   "cell_type": "code",
   "execution_count": 9,
   "metadata": {},
   "outputs": [],
   "source": [
    "#7. Write a Python program to test whether a number is within 100 of 1000 or 2000. Go to the editor\n",
    "#Click me to see the sample solution\n",
    "def within100of1000_2000(num):\n",
    "    if (900<=num<=1100):\n",
    "        print(\"the number is within the 100 of 1000\")\n",
    "        \n",
    "    elif (1900<=num<=2100):\n",
    "        print(\"the number is within the 100 of 2000\")\n",
    "    else:\n",
    "        print(\" the number isnot in expected range\")\n",
    "    "
   ]
  },
  {
   "cell_type": "code",
   "execution_count": 11,
   "metadata": {},
   "outputs": [
    {
     "name": "stdout",
     "output_type": "stream",
     "text": [
      "the number is within the 100 of 2000\n"
     ]
    }
   ],
   "source": [
    " within100of1000_2000(2000)"
   ]
  },
  {
   "cell_type": "code",
   "execution_count": 17,
   "metadata": {},
   "outputs": [],
   "source": [
    "#Write a Python program to get a new string from a given string where \"Is\" has been added to the front. \n",
    "#If the given string already begins with \"Is\" then return the string unchanged. \n",
    "def getnewstring(string1):\n",
    "    list1=string1.split(\" \")\n",
    "    if(list1[0]==\"Is\"):\n",
    "        print(string1)\n",
    "    else:\n",
    "        new_str=\"Is \"+string1\n",
    "        print(new_str)\n",
    "    "
   ]
  },
  {
   "cell_type": "code",
   "execution_count": 19,
   "metadata": {},
   "outputs": [
    {
     "name": "stdout",
     "output_type": "stream",
     "text": [
      "Is are hello anjali\n"
     ]
    }
   ],
   "source": [
    "getnewstring(\"Is are hello anjali\")"
   ]
  },
  {
   "cell_type": "code",
   "execution_count": 22,
   "metadata": {},
   "outputs": [],
   "source": [
    "# Write a Python program to get a string which is n (non-negative integer) copies of a given string. Go to the editor\n",
    "def copystring(str,num):\n",
    "     print(str*num)"
   ]
  },
  {
   "cell_type": "code",
   "execution_count": 23,
   "metadata": {},
   "outputs": [
    {
     "name": "stdout",
     "output_type": "stream",
     "text": [
      "anjali moleeanjali moleeanjali moleeanjali moleeanjali moleeanjali moleeanjali moleeanjali moleeanjali moleeanjali molee\n"
     ]
    }
   ],
   "source": [
    "copystring(\"anjali molee\",10)"
   ]
  },
  {
   "cell_type": "code",
   "execution_count": null,
   "metadata": {},
   "outputs": [],
   "source": [
    "#Write a Python program to find whether a given number (accept from the user) is even or odd,\n",
    "#print out an appropriate message to the user.\n"
   ]
  },
  {
   "cell_type": "code",
   "execution_count": 37,
   "metadata": {},
   "outputs": [],
   "source": [
    "#. Write a Python program to count the number 4 in a given list.\n",
    "def count4():\n",
    "    numlist=str(input(\"enter the numbers in a comma listed format\")).split(\",\")\n",
    "    count=0\n",
    "    print(numlist)\n",
    "    for i in numlist:\n",
    "        \n",
    "        if(i=='4'):\n",
    "            \n",
    "            count+=1\n",
    "    print (count)\n",
    "    "
   ]
  },
  {
   "cell_type": "code",
   "execution_count": 38,
   "metadata": {},
   "outputs": [
    {
     "name": "stdout",
     "output_type": "stream",
     "text": [
      "enter the numbers in a comma listed format3,4,5,6,7\n",
      "['3', '4', '5', '6', '7']\n",
      "1\n"
     ]
    }
   ],
   "source": [
    "count4()"
   ]
  },
  {
   "cell_type": "code",
   "execution_count": 56,
   "metadata": {},
   "outputs": [],
   "source": [
    "#Write a Python program to get the n (non-negative integer) copies of the first 2 characters of a given string. \n",
    "#Return the n copies of the whole string if the length is less than 2.\n",
    "def copy2charcters():\n",
    "    string1=str(input(\"enter the string\"))\n",
    "    num=int(input(\"enter the number\"))\n",
    "    string2=string1[0:2]\n",
    "    print(string2*num)"
   ]
  },
  {
   "cell_type": "code",
   "execution_count": 57,
   "metadata": {},
   "outputs": [
    {
     "name": "stdout",
     "output_type": "stream",
     "text": [
      "enter the stringp\n",
      "enter the number5\n",
      "ppppp\n"
     ]
    }
   ],
   "source": [
    "copy2charcters()"
   ]
  },
  {
   "cell_type": "code",
   "execution_count": 65,
   "metadata": {},
   "outputs": [],
   "source": [
    "#Write a Python program to test whether a passed letter is a vowel or not\n",
    "def vowelornot():\n",
    "    a=['a','e','i','o','u']\n",
    "    b=str(input(\"enter the letter\"))\n",
    "    for i in a:\n",
    "        if (b==i):\n",
    "            print(\"vowel\")\n",
    "            break\n",
    "        else:\n",
    "            print(\"not a vowel\")\n",
    "            break"
   ]
  },
  {
   "cell_type": "code",
   "execution_count": 66,
   "metadata": {},
   "outputs": [
    {
     "name": "stdout",
     "output_type": "stream",
     "text": [
      "enter the letterb\n",
      "not a vowel\n"
     ]
    }
   ],
   "source": [
    "vowelornot()\n"
   ]
  },
  {
   "cell_type": "code",
   "execution_count": null,
   "metadata": {
    "collapsed": true
   },
   "outputs": [],
   "source": [
    "#Write a Python program to check whether a specified value is contained in a group of values.\n",
    "#Go to the editor\n"
   ]
  },
  {
   "cell_type": "code",
   "execution_count": 73,
   "metadata": {},
   "outputs": [],
   "source": [
    "#Write a Python program to create a histogram from a given list of integers\n",
    "def histogram():\n",
    "    str1=input(\"enter the numbers as comma separate list \")\n",
    "    list1=str1.split(\",\")\n",
    "    for i in list1:\n",
    "        a=int(i)\n",
    "        b=''\n",
    "        while(a>0):\n",
    "            b=b+'*'\n",
    "            a-=1\n",
    "        print(b)\n",
    "            "
   ]
  },
  {
   "cell_type": "code",
   "execution_count": 74,
   "metadata": {},
   "outputs": [
    {
     "name": "stdout",
     "output_type": "stream",
     "text": [
      "enter the numbers as comma separate list 3,4,5,6,7\n",
      "***\n",
      "****\n",
      "*****\n",
      "******\n",
      "*******\n"
     ]
    }
   ],
   "source": [
    "histogram()"
   ]
  },
  {
   "cell_type": "code",
   "execution_count": 75,
   "metadata": {},
   "outputs": [],
   "source": [
    "# Write a Python program to concatenate all elements in a list into a string and return it.\n",
    "def concat_elements():\n",
    "    \n",
    "    list1=['1','2','3','4','5','6','7','8','9']\n",
    "    str2=''\n",
    "    for i in list1:\n",
    "        str2=str2+i\n",
    "    print(str2)\n",
    "        \n"
   ]
  },
  {
   "cell_type": "code",
   "execution_count": 76,
   "metadata": {},
   "outputs": [
    {
     "name": "stdout",
     "output_type": "stream",
     "text": [
      "123456789\n"
     ]
    }
   ],
   "source": [
    "concat_elements()"
   ]
  },
  {
   "cell_type": "code",
   "execution_count": 94,
   "metadata": {},
   "outputs": [],
   "source": [
    "#. Write a Python program to print all even numbers from a given numbers list in the same order\n",
    "#and stop the printing if any numbers that come after 237 in the sequence\n",
    "def print_numbers():\n",
    "      numbers=[386,462,47,418,907,344,236,375,823,566,597,978,328,615,953,345,399,162,758,219,918,237,412,566,826,248,866,950,626,949,687,217,815,67,104,58,512,24,892,894,767,553,81,379,843,831,445,742,717,958,743,527]\n",
    "  #numbers = [386,462,47,418,907,344,236,375,823,566,597,978,328,615,953,345,399,162,758,219,918,237,412,566,826,248,866,950,626,949,687,217,815,67,104,58,512,24,892,894,767,553,81,379,843,831,445,742,717,958,743,527]\n",
    "\n",
    "      for i in numbers:\n",
    "            if (i%2==0):\n",
    "                print(i)\n",
    "            elif(i==237):\n",
    "                break\n",
    "            else:\n",
    "                continue"
   ]
  },
  {
   "cell_type": "code",
   "execution_count": 95,
   "metadata": {},
   "outputs": [
    {
     "name": "stdout",
     "output_type": "stream",
     "text": [
      "386\n",
      "462\n",
      "418\n",
      "344\n",
      "236\n",
      "566\n",
      "978\n",
      "328\n",
      "162\n",
      "758\n",
      "918\n"
     ]
    }
   ],
   "source": [
    "print_numbers()"
   ]
  },
  {
   "cell_type": "code",
   "execution_count": 107,
   "metadata": {},
   "outputs": [],
   "source": [
    " #Write a Python program to print out a set containing all the colors from color_list_1 \n",
    "    #which are not present in color_list_2.\n",
    "def filter_colors():\n",
    "        color_list_1 = set([\"White\", \"Black\", \"Red\"])\n",
    "        color_list_2 = set([\"Red\", \"Green\"])\n",
    "        print(color_list_1.intersection(color_list_2))"
   ]
  },
  {
   "cell_type": "code",
   "execution_count": 108,
   "metadata": {},
   "outputs": [
    {
     "name": "stdout",
     "output_type": "stream",
     "text": [
      "{'Red'}\n"
     ]
    }
   ],
   "source": [
    "filter_colors()"
   ]
  },
  {
   "cell_type": "code",
   "execution_count": 14,
   "metadata": {},
   "outputs": [],
   "source": [
    "#31. Write a Python program to compute the greatest common divisor (GCD) of two positive integers\n",
    "def gcd(x,y):\n",
    "    gcd=1\n",
    "    if y>x:\n",
    "        b=x\n",
    "        x=y\n",
    "        y=b\n",
    "\n",
    "    for i in range(y,0,-1):\n",
    "        \n",
    "        if(x%i==0 and y%i==0):\n",
    "            print(\" the greatest integer is {}\".format(i))\n",
    "            break\n",
    "        "
   ]
  },
  {
   "cell_type": "code",
   "execution_count": 15,
   "metadata": {},
   "outputs": [
    {
     "name": "stdout",
     "output_type": "stream",
     "text": [
      " the greatest integer is 1\n"
     ]
    }
   ],
   "source": [
    " gcd(10,17)"
   ]
  },
  {
   "cell_type": "code",
   "execution_count": 1,
   "metadata": {},
   "outputs": [],
   "source": [
    "#32. Write a Python program to get the least common multiple (LCM) of two positive integers\n",
    "\n",
    "def lcm(x,y):\n",
    "    \n",
    "    for i in range(2,x*y+1,1):\n",
    "        if(x%i==0 and y%i==0):\n",
    "            print(i)\n",
    "            break\n",
    "            "
   ]
  },
  {
   "cell_type": "code",
   "execution_count": 2,
   "metadata": {},
   "outputs": [
    {
     "name": "stdout",
     "output_type": "stream",
     "text": [
      "2\n"
     ]
    }
   ],
   "source": [
    "lcm(2,4)"
   ]
  },
  {
   "cell_type": "code",
   "execution_count": 3,
   "metadata": {},
   "outputs": [
    {
     "name": "stdout",
     "output_type": "stream",
     "text": [
      "2\n"
     ]
    }
   ],
   "source": [
    "lcm(8,4)"
   ]
  },
  {
   "cell_type": "code",
   "execution_count": 4,
   "metadata": {},
   "outputs": [
    {
     "name": "stdout",
     "output_type": "stream",
     "text": [
      "2\n"
     ]
    }
   ],
   "source": [
    "lcm(12,6)"
   ]
  },
  {
   "cell_type": "code",
   "execution_count": 5,
   "metadata": {},
   "outputs": [],
   "source": [
    "lcm(15, 17)"
   ]
  },
  {
   "cell_type": "code",
   "execution_count": 11,
   "metadata": {},
   "outputs": [],
   "source": [
    "def add_numbers(a,b):\n",
    "    if(isinstance(a,int) and isinstance(b.int)):\n",
    "        return(a+b)\n",
    "    else:\n",
    "        raise TypeError(\"inputs must be integer\")"
   ]
  },
  {
   "cell_type": "code",
   "execution_count": 12,
   "metadata": {},
   "outputs": [
    {
     "ename": "AttributeError",
     "evalue": "'int' object has no attribute 'int'",
     "output_type": "error",
     "traceback": [
      "\u001b[1;31m---------------------------------------------------------------------------\u001b[0m",
      "\u001b[1;31mAttributeError\u001b[0m                            Traceback (most recent call last)",
      "\u001b[1;32m<ipython-input-12-c15b11e25f9b>\u001b[0m in \u001b[0;36m<module>\u001b[1;34m\u001b[0m\n\u001b[1;32m----> 1\u001b[1;33m \u001b[0madd_numbers\u001b[0m\u001b[1;33m(\u001b[0m\u001b[1;36m10\u001b[0m\u001b[1;33m,\u001b[0m\u001b[1;36m4\u001b[0m\u001b[1;33m)\u001b[0m\u001b[1;33m\u001b[0m\u001b[1;33m\u001b[0m\u001b[0m\n\u001b[0m",
      "\u001b[1;32m<ipython-input-11-9951e90970a8>\u001b[0m in \u001b[0;36madd_numbers\u001b[1;34m(a, b)\u001b[0m\n\u001b[0;32m      1\u001b[0m \u001b[1;32mdef\u001b[0m \u001b[0madd_numbers\u001b[0m\u001b[1;33m(\u001b[0m\u001b[0ma\u001b[0m\u001b[1;33m,\u001b[0m\u001b[0mb\u001b[0m\u001b[1;33m)\u001b[0m\u001b[1;33m:\u001b[0m\u001b[1;33m\u001b[0m\u001b[1;33m\u001b[0m\u001b[0m\n\u001b[1;32m----> 2\u001b[1;33m     \u001b[1;32mif\u001b[0m\u001b[1;33m(\u001b[0m\u001b[0misinstance\u001b[0m\u001b[1;33m(\u001b[0m\u001b[0ma\u001b[0m\u001b[1;33m,\u001b[0m\u001b[0mint\u001b[0m\u001b[1;33m)\u001b[0m \u001b[1;32mand\u001b[0m \u001b[0misinstance\u001b[0m\u001b[1;33m(\u001b[0m\u001b[0mb\u001b[0m\u001b[1;33m.\u001b[0m\u001b[0mint\u001b[0m\u001b[1;33m)\u001b[0m\u001b[1;33m)\u001b[0m\u001b[1;33m:\u001b[0m\u001b[1;33m\u001b[0m\u001b[1;33m\u001b[0m\u001b[0m\n\u001b[0m\u001b[0;32m      3\u001b[0m         \u001b[1;32mreturn\u001b[0m\u001b[1;33m(\u001b[0m\u001b[0ma\u001b[0m\u001b[1;33m+\u001b[0m\u001b[0mb\u001b[0m\u001b[1;33m)\u001b[0m\u001b[1;33m\u001b[0m\u001b[1;33m\u001b[0m\u001b[0m\n\u001b[0;32m      4\u001b[0m     \u001b[1;32melse\u001b[0m\u001b[1;33m:\u001b[0m\u001b[1;33m\u001b[0m\u001b[1;33m\u001b[0m\u001b[0m\n\u001b[0;32m      5\u001b[0m         \u001b[1;32mraise\u001b[0m \u001b[0mTypeError\u001b[0m\u001b[1;33m(\u001b[0m\u001b[1;34m\"inputs must be integer\"\u001b[0m\u001b[1;33m)\u001b[0m\u001b[1;33m\u001b[0m\u001b[1;33m\u001b[0m\u001b[0m\n",
      "\u001b[1;31mAttributeError\u001b[0m: 'int' object has no attribute 'int'"
     ]
    }
   ],
   "source": [
    "add_numbers(10,4)"
   ]
  },
  {
   "cell_type": "code",
   "execution_count": 13,
   "metadata": {},
   "outputs": [
    {
     "name": "stdout",
     "output_type": "stream",
     "text": [
      "True\n"
     ]
    }
   ],
   "source": [
    "import os.path\n",
    "open('abc.txt', 'w')\n",
    "print(os.path.isfile('abc.txt'))"
   ]
  },
  {
   "cell_type": "code",
   "execution_count": null,
   "metadata": {},
   "outputs": [],
   "source": []
  }
 ],
 "metadata": {
  "kernelspec": {
   "display_name": "Python 3",
   "language": "python",
   "name": "python3"
  },
  "language_info": {
   "codemirror_mode": {
    "name": "ipython",
    "version": 3
   },
   "file_extension": ".py",
   "mimetype": "text/x-python",
   "name": "python",
   "nbconvert_exporter": "python",
   "pygments_lexer": "ipython3",
   "version": "3.7.6"
  }
 },
 "nbformat": 4,
 "nbformat_minor": 4
}
