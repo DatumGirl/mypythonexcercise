{
 "cells": [
  {
   "cell_type": "code",
   "execution_count": null,
   "metadata": {},
   "outputs": [],
   "source": [
    "#Write a programme where the computer randomly generates a number between 0 and 20. \n",
    "#The user needs to guess what the number is. If the user guesses wrong,\n",
    "#tell them their guess is either too high, or too low. \n",
    "#This will get you started with the random library if you haven't already used it."
   ]
  },
  {
   "cell_type": "code",
   "execution_count": 7,
   "metadata": {},
   "outputs": [],
   "source": [
    "from random import randint \n",
    "\n",
    "def guess_thenumber():\n",
    "   \n",
    "    num= randint(1,20)\n",
    "    \n",
    "    while (1==1):\n",
    "            num1=int(input(\"enter the number \"))\n",
    "\n",
    "            if num1>num:\n",
    "                print(\"your number is high.guess something between {} and{}\".format(num-1, num+1))\n",
    "                continue\n",
    "            elif num1<num:\n",
    "                print(\"your number is low\")\n",
    "                print(\"your number is low.guess something between {} and{}\".format(num-1, num+1))\n",
    "                continue\n",
    "            else:\n",
    "                print(\"congradulations ur guess is correct\")\n",
    "                break\n",
    "        \n",
    "        "
   ]
  },
  {
   "cell_type": "code",
   "execution_count": 8,
   "metadata": {},
   "outputs": [
    {
     "name": "stdout",
     "output_type": "stream",
     "text": [
      "enter the number 1\n",
      "your number is low\n",
      "your number is low.guess something between 2 and4\n",
      "enter the number 3\n",
      "congradulations ur guess is correct\n"
     ]
    }
   ],
   "source": [
    " guess_thenumber()"
   ]
  },
  {
   "cell_type": "code",
   "execution_count": null,
   "metadata": {},
   "outputs": [],
   "source": []
  }
 ],
 "metadata": {
  "kernelspec": {
   "display_name": "Python 3",
   "language": "python",
   "name": "python3"
  },
  "language_info": {
   "codemirror_mode": {
    "name": "ipython",
    "version": 3
   },
   "file_extension": ".py",
   "mimetype": "text/x-python",
   "name": "python",
   "nbconvert_exporter": "python",
   "pygments_lexer": "ipython3",
   "version": "3.7.6"
  }
 },
 "nbformat": 4,
 "nbformat_minor": 4
}
