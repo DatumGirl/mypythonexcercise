{
 "cells": [
  {
   "cell_type": "code",
   "execution_count": 2,
   "metadata": {},
   "outputs": [],
   "source": [
    "#Rock, Paper, Scissors Game\n",
    "#Make a rock-paper-scissors game where it is the player vs the computer. \n",
    "#The computer’s answer will be randomly generated, while the program will ask the user for their input. \n",
    "#This project will better your understanding of while loops and if statements."
   ]
  },
  {
   "cell_type": "code",
   "execution_count": 17,
   "metadata": {},
   "outputs": [],
   "source": [
    "import random\n",
    "def guess_object():\n",
    "    list1 =['Rock', 'Paper', 'Scissors']\n",
    "    ob = (random.sample(list1,1))\n",
    "    \n",
    "    a=1\n",
    "    while(1==1):\n",
    "        ob1=(input(\"guess from [Rock, Paper, Scissors]\")).split(' ')\n",
    "        \n",
    "        if a>3:\n",
    "            print(\"the choice is {}\".format(ob))\n",
    "            break\n",
    "        if (ob==ob1 ):\n",
    "            print(\"congradulations your guess is correct\")\n",
    "            a=a+1\n",
    "            break\n",
    "        else:\n",
    "            print(\"guess is not right .Please try again \")\n",
    "            a=a+1\n",
    "            continue\n",
    "        \n",
    "        \n",
    "    "
   ]
  },
  {
   "cell_type": "code",
   "execution_count": 18,
   "metadata": {},
   "outputs": [
    {
     "name": "stdout",
     "output_type": "stream",
     "text": [
      "guess from [Rock, Paper, Scissors]Paper\n",
      "guess is not right .Please try again \n",
      "guess from [Rock, Paper, Scissors]Rock\n",
      "guess is not right .Please try again \n",
      "guess from [Rock, Paper, Scissors]Scissors\n",
      "congradulations your guess is correct\n"
     ]
    }
   ],
   "source": [
    "guess_object()"
   ]
  },
  {
   "cell_type": "code",
   "execution_count": null,
   "metadata": {},
   "outputs": [],
   "source": []
  }
 ],
 "metadata": {
  "kernelspec": {
   "display_name": "Python 3",
   "language": "python",
   "name": "python3"
  },
  "language_info": {
   "codemirror_mode": {
    "name": "ipython",
    "version": 3
   },
   "file_extension": ".py",
   "mimetype": "text/x-python",
   "name": "python",
   "nbconvert_exporter": "python",
   "pygments_lexer": "ipython3",
   "version": "3.7.6"
  }
 },
 "nbformat": 4,
 "nbformat_minor": 4
}
