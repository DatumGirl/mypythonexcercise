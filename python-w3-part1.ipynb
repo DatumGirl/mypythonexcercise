{
 "cells": [
  {
   "cell_type": "code",
   "execution_count": null,
   "metadata": {},
   "outputs": [],
   "source": [
    "#Write a Python program to get the Python version you are using. Go to the editor\n",
    "#Click me to see the sample solution"
   ]
  },
  {
   "cell_type": "code",
   "execution_count": 2,
   "metadata": {},
   "outputs": [
    {
     "name": "stdout",
     "output_type": "stream",
     "text": [
      "3.7.6 (default, Jan  8 2020, 20:23:39) [MSC v.1916 64 bit (AMD64)]\n",
      "sys.version_info(major=3, minor=7, micro=6, releaselevel='final', serial=0)\n"
     ]
    }
   ],
   "source": [
    "import sys\n",
    "print(sys.version)\n",
    "print(sys.version_info)"
   ]
  },
  {
   "cell_type": "code",
   "execution_count": 3,
   "metadata": {},
   "outputs": [
    {
     "name": "stdout",
     "output_type": "stream",
     "text": [
      "Current date and time : \n",
      "2020-08-30 15:25:35\n"
     ]
    }
   ],
   "source": [
    "# Write a Python program to display the current date and time.\n",
    "#Sample Output :\n",
    "\n",
    "import datetime\n",
    "now = datetime.datetime.now()\n",
    "print (\"Current date and time : \")\n",
    "print (now.strftime(\"%Y-%m-%d %H:%M:%S\"))"
   ]
  },
  {
   "cell_type": "code",
   "execution_count": 6,
   "metadata": {},
   "outputs": [],
   "source": [
    "#Write a Python program which accepts the radius of a circle from the user and compute the area. Go to the editor\n",
    "#Sample Output :\n",
    "#r = 1.1\n",
    "#Area = 3.8013271108436504\n",
    "\n",
    "\n",
    "import math \n",
    "\n",
    "def Area_circle(r):\n",
    "    print (r)\n",
    "    print(math.pi*math.pow(r,2))\n",
    "   "
   ]
  },
  {
   "cell_type": "code",
   "execution_count": 7,
   "metadata": {},
   "outputs": [
    {
     "name": "stdout",
     "output_type": "stream",
     "text": [
      "2\n",
      "12.566370614359172\n"
     ]
    }
   ],
   "source": [
    "Area_circle(2)"
   ]
  },
  {
   "cell_type": "code",
   "execution_count": 11,
   "metadata": {},
   "outputs": [],
   "source": [
    "#. Write a Python program which accepts the user's first and last name and print them in reverse order with a space between them. Go to the editor\n",
    "#Click me to see the sample solution\n",
    "\n",
    "def reverse_name():\n",
    "    fname= input(\"enter the first name\")\n",
    "    lname= input(\"enter the last name\")\n",
    "    fullname=fname+\" \"+lname\n",
    "    \n",
    "    print(fullname)\n",
    "    l=len(fullname)-1\n",
    "    print(l)\n",
    "    rname=''\n",
    "    for i in fullname:\n",
    "        \n",
    "        rname=i+rname\n",
    "        \n",
    "        \n",
    "    print(rname)\n",
    "        \n",
    "    "
   ]
  },
  {
   "cell_type": "code",
   "execution_count": 12,
   "metadata": {},
   "outputs": [
    {
     "name": "stdout",
     "output_type": "stream",
     "text": [
      "enter the first nameAnjali\n",
      "enter the last namegopi\n",
      "Anjali gopi\n",
      "10\n",
      "ipog ilajnA\n"
     ]
    }
   ],
   "source": [
    "reverse_name()"
   ]
  },
  {
   "cell_type": "code",
   "execution_count": 15,
   "metadata": {},
   "outputs": [],
   "source": [
    "#6. Write a Python program which accepts a sequence of comma-separated numbers from user and generate a list and a tuple with those numbers. Go to the editor\n",
    "#Sample data : 3, 5, 7, 23\n",
    "#Output :\n",
    "#List : ['3', ' 5', ' 7', ' 23']\n",
    "#Tuple : ('3', ' 5', ' 7', ' 23')\n",
    "\n",
    "def list_tuple():\n",
    "    in_numbers=input(\"enter the numbers seprated by comma\")\n",
    "    list_numbers=in_numbers.split(\",\")\n",
    "    tuple_numbers=tuple(list_numbers)\n",
    "    print(\"List : \",list_numbers)\n",
    "    print(\"Tuple :\",tuple_numbers)"
   ]
  },
  {
   "cell_type": "code",
   "execution_count": 16,
   "metadata": {},
   "outputs": [
    {
     "name": "stdout",
     "output_type": "stream",
     "text": [
      "enter the numbers seprated by comma1,2,3\n",
      "List :  ['1', '2', '3']\n",
      "Tuple : ('1', '2', '3')\n"
     ]
    }
   ],
   "source": [
    "list_tuple()"
   ]
  },
  {
   "cell_type": "code",
   "execution_count": 5,
   "metadata": {},
   "outputs": [],
   "source": [
    "#Write a Python program to accept a filename from the user and print the extension of that. Go to the editor\n",
    "#Sample filename : abc.java\n",
    "#Output : java\n",
    "def file_name():\n",
    "    fname=input(\"enter the filename with extension\")\n",
    "    ext=fname.split(\".\")\n",
    "    print(\"the extension is {}\".format(ext[-1]))"
   ]
  },
  {
   "cell_type": "code",
   "execution_count": 6,
   "metadata": {},
   "outputs": [
    {
     "name": "stdout",
     "output_type": "stream",
     "text": [
      "enter the filename with extensionabc.java\n",
      "the extension is java\n"
     ]
    }
   ],
   "source": [
    "file_name()"
   ]
  },
  {
   "cell_type": "code",
   "execution_count": 7,
   "metadata": {},
   "outputs": [],
   "source": [
    "#8. Write a Python program to display the first and last colors from the following list. Go to the editor\n",
    "#color_list = [\"Red\",\"Green\",\"White\" ,\"Black\"]\n",
    "def fl_colors():\n",
    "    color_list = [\"Red\",\"Green\",\"White\" ,\"Black\"]\n",
    "    print(color_list[0],color_list[-1])"
   ]
  },
  {
   "cell_type": "code",
   "execution_count": 8,
   "metadata": {},
   "outputs": [
    {
     "name": "stdout",
     "output_type": "stream",
     "text": [
      "Red Black\n"
     ]
    }
   ],
   "source": [
    " fl_colors()"
   ]
  },
  {
   "cell_type": "code",
   "execution_count": 16,
   "metadata": {},
   "outputs": [],
   "source": [
    "#9. Write a Python program to display the examination schedule. (extract the date from exam_st_date). Go to the editor\n",
    "#exam_st_date = (11, 12, 2014)\n",
    "#Sample Output : The examination will start from : 11 / 12 / 2014\n",
    "def date_format():\n",
    "    exam_st_date = (11, 12, 2014)\n",
    "    \n",
    "    print(\"the exam date is {}/{}/{}\".format(exam_st_date[0],exam_st_date[1],exam_st_date[2]))"
   ]
  },
  {
   "cell_type": "code",
   "execution_count": 17,
   "metadata": {},
   "outputs": [
    {
     "name": "stdout",
     "output_type": "stream",
     "text": [
      "the exam date is 11/12/2014\n"
     ]
    }
   ],
   "source": [
    "date_format()"
   ]
  },
  {
   "cell_type": "code",
   "execution_count": 20,
   "metadata": {},
   "outputs": [],
   "source": [
    "#10. Write a Python program that accepts an integer (n) and computes the value of n+nn+nnn. Go to the editor\n",
    "#Sample value of n is 5\n",
    "#Expected Result : 615\n",
    "def sum_value():\n",
    "    num=input(\"enter the number\")\n",
    "    print ( \" the expected value is {}\".format(int(num)+int(num*2)+int(num*3)))"
   ]
  },
  {
   "cell_type": "code",
   "execution_count": 21,
   "metadata": {},
   "outputs": [
    {
     "name": "stdout",
     "output_type": "stream",
     "text": [
      "enter the number3\n",
      " the expected value is 369\n"
     ]
    }
   ],
   "source": [
    "sum_value()"
   ]
  },
  {
   "cell_type": "code",
   "execution_count": 22,
   "metadata": {},
   "outputs": [
    {
     "name": "stdout",
     "output_type": "stream",
     "text": [
      "Return the absolute value of the argument.\n"
     ]
    }
   ],
   "source": [
    " #Write a Python program to print the documents (syntax, description etc.) of Python built-in function(s).\n",
    "#Sample function : abs()\n",
    "#Expected Result :\n",
    "#abs(number) -> number\n",
    "#Return the absolute value of the argument.\n",
    "\n",
    "print(abs.__doc__)"
   ]
  },
  {
   "cell_type": "code",
   "execution_count": null,
   "metadata": {},
   "outputs": [],
   "source": []
  }
 ],
 "metadata": {
  "kernelspec": {
   "display_name": "Python 3",
   "language": "python",
   "name": "python3"
  },
  "language_info": {
   "codemirror_mode": {
    "name": "ipython",
    "version": 3
   },
   "file_extension": ".py",
   "mimetype": "text/x-python",
   "name": "python",
   "nbconvert_exporter": "python",
   "pygments_lexer": "ipython3",
   "version": "3.7.6"
  }
 },
 "nbformat": 4,
 "nbformat_minor": 4
}
