{
 "cells": [
  {
   "cell_type": "code",
   "execution_count": 104,
   "metadata": {},
   "outputs": [],
   "source": [
    "import numpy as np\n",
    "class Solution():\n",
    "    def findMedianSortedArrays(self,n1,n2):\n",
    "        a=0\n",
    "        \n",
    "        print(n1)\n",
    "        \n",
    "        sum1=0\n",
    "        n3=n1+n2\n",
    "        print (n3)\n",
    "        for i in n3:\n",
    "            sum1=sum1+i\n",
    "            a=a+1\n",
    "        \n",
    "        return (sum1/a)http://localhost:8889/notebooks/Untitled10.ipynb?kernel_name=python3#\n"
   ]
  },
  {
   "cell_type": "code",
   "execution_count": 106,
   "metadata": {},
   "outputs": [
    {
     "name": "stdout",
     "output_type": "stream",
     "text": [
      "(1, 2)\n",
      "(1, 2, 3, 4)\n",
      "10\n",
      "2.5\n"
     ]
    }
   ],
   "source": [
    "sum1=Solution().findMedianSortedArrays((1,2),(3,4))\n",
    "print (sum1)"
   ]
  },
  {
   "cell_type": "code",
   "execution_count": null,
   "metadata": {},
   "outputs": [],
   "source": []
  },
  {
   "cell_type": "code",
   "execution_count": null,
   "metadata": {},
   "outputs": [],
   "source": []
  }
 ],
 "metadata": {
  "kernelspec": {
   "display_name": "Python 3",
   "language": "python",
   "name": "python3"
  },
  "language_info": {
   "codemirror_mode": {
    "name": "ipython",
    "version": 3
   },
   "file_extension": ".py",
   "mimetype": "text/x-python",
   "name": "python",
   "nbconvert_exporter": "python",
   "pygments_lexer": "ipython3",
   "version": "3.7.6"
  }
 },
 "nbformat": 4,
 "nbformat_minor": 4
}
